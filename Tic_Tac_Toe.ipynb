{
 "cells": [
  {
   "cell_type": "code",
   "execution_count": 1,
   "metadata": {},
   "outputs": [],
   "source": [
    "def intro():\n",
    "    \n",
    "    print('Welcome to Tic Tac Toe!')\n",
    "    \n",
    "    in_p1 = False\n",
    "    while not in_p1:\n",
    "        x_o = input('Player 1 do you want to be X or O? ')\n",
    "        if x_o.upper() == 'X' or x_o.upper() == 'O':\n",
    "            in_p1 = True\n",
    "        else:\n",
    "            print('Invalid input')\n",
    "            \n",
    "    d = {'p1':'','p2':''}\n",
    "    \n",
    "    if x_o.upper() == 'X':\n",
    "        d['p1'] = 'X'\n",
    "        d['p2'] = 'O'\n",
    "    else:\n",
    "        d['p1'] = 'O'\n",
    "        d['p2'] = 'X'\n",
    "    \n",
    "    \n",
    "    ready = False\n",
    "    while not ready:\n",
    "        start = input('Ready to go? ')\n",
    "        if start.upper() == 'Y':\n",
    "            ready = True\n",
    "            print('\\n')\n",
    "        elif start.upper() == 'N':  # se rispondono no si puo' settare game_on = False e non richiedere ancora se sono pronti\n",
    "            print('OK see you later\\n')\n",
    "            continue\n",
    "        else:\n",
    "            print('Invalid input')\n",
    "            \n",
    "    return d"
   ]
  },
  {
   "cell_type": "code",
   "execution_count": 2,
   "metadata": {},
   "outputs": [],
   "source": [
    "def whos_first():\n",
    "    import random\n",
    "    flip = random.randint(0,1)\n",
    "    if flip == 0:\n",
    "        print('\\nPlayer 1 goes first')\n",
    "        return 'Player 1'\n",
    "    else:\n",
    "        print('\\nPlayer 2 goes first')\n",
    "        return 'Player 2'"
   ]
  },
  {
   "cell_type": "code",
   "execution_count": 3,
   "metadata": {},
   "outputs": [],
   "source": [
    "def print_board(cell_list):\n",
    "\n",
    "    print('     |     |     ')\n",
    "    print(f'  {cell_list[6]}  |  {cell_list[7]}  |  {cell_list[8]}  ')\n",
    "    print('_____|_____|_____')\n",
    "    print('     |     |     ')\n",
    "    print(f'  {cell_list[3]}  |  {cell_list[4]}  |  {cell_list[5]}  ')\n",
    "    print('_____|_____|_____')\n",
    "    print('     |     |     ')\n",
    "    print(f'  {cell_list[0]}  |  {cell_list[1]}  |  {cell_list[2]}  ')\n",
    "    print('     |     |     ')"
   ]
  },
  {
   "cell_type": "code",
   "execution_count": 4,
   "metadata": {},
   "outputs": [],
   "source": [
    "def position_choice_p1(d,cell_list):\n",
    "    position = '10'\n",
    "    valid_positions = ['1','2','3','4','5','6','7','8','9']\n",
    "    while position not in valid_positions or cell_list[int(position)-1] != ' ':\n",
    "        position = input('Player 1 choose your next position 1-9: ')\n",
    "        if position not in valid_positions:\n",
    "            print('Sorry, but you did not choose a valid position (from 1 to 9)')\n",
    "        elif cell_list[int(position)-1] != ' ':\n",
    "            print('Sorry, this cell is already taken!')\n",
    "    cell_list[int(position)-1] = d['p1']\n",
    "    return cell_list"
   ]
  },
  {
   "cell_type": "code",
   "execution_count": 5,
   "metadata": {},
   "outputs": [],
   "source": [
    "def position_choice_p2(d,cell_list):\n",
    "    position = '10'\n",
    "    valid_positions = ['1','2','3','4','5','6','7','8','9']\n",
    "    while position not in valid_positions or cell_list[int(position)-1] != ' ':\n",
    "        position = input('Player 2 choose your next position 1-9: ')\n",
    "        if position not in valid_positions:\n",
    "            print('Sorry, but you did not choose a valid position (from 1 to 9)')\n",
    "        elif cell_list[int(position)-1] != ' ':\n",
    "            print('Sorry, this cell is already taken!')\n",
    "    cell_list[int(position)-1] = d['p2']\n",
    "    return cell_list"
   ]
  },
  {
   "cell_type": "code",
   "execution_count": 6,
   "metadata": {},
   "outputs": [],
   "source": [
    "def gameon_choice():\n",
    "    choice = 'wrong'\n",
    "    game_on = True\n",
    "    while not (choice == 'N' or choice == 'Y'):\n",
    "        choice = input('Do you want to keep playing? ')\n",
    "        if choice.upper() == 'N':\n",
    "            print('Thank you for playing :)')\n",
    "            game_on = False\n",
    "            break\n",
    "        elif choice.upper() == 'Y':\n",
    "            break\n",
    "        else:\n",
    "            print('Sorry, invalid choice')\n",
    "    return game_on"
   ]
  },
  {
   "cell_type": "code",
   "execution_count": 7,
   "metadata": {},
   "outputs": [],
   "source": [
    "def  check_if_won_or_full(cell_list,player):\n",
    "    \n",
    "    game_won_or_full = False\n",
    "    full_cell = 0\n",
    "    for cell in cell_list:\n",
    "        if cell != ' ':\n",
    "            full_cell +=1\n",
    "    if full_cell == 9:\n",
    "        print('Tie game!')\n",
    "        game_won_or_full = True\n",
    "        \n",
    "    if (cell_list[0] == cell_list[1] == cell_list[2] != ' ' or\n",
    "        cell_list[3] == cell_list[4] == cell_list[5] != ' ' or\n",
    "        cell_list[6] == cell_list[7] == cell_list[8] != ' ' or\n",
    "        cell_list[0] == cell_list[3] == cell_list[6] != ' ' or\n",
    "        cell_list[1] == cell_list[4] == cell_list[7] != ' ' or\n",
    "        cell_list[2] == cell_list[5] == cell_list[8] != ' ' or\n",
    "        cell_list[0] == cell_list[4] == cell_list[8] != ' ' or\n",
    "        cell_list[2] == cell_list[4] == cell_list[6] != ' '):\n",
    "            print(f'Congratulations {player}, you won!')\n",
    "            game_won_or_full = True\n",
    "    \n",
    "    return game_won_or_full"
   ]
  },
  {
   "cell_type": "code",
   "execution_count": 8,
   "metadata": {},
   "outputs": [
    {
     "name": "stdout",
     "output_type": "stream",
     "text": [
      "     |     |     \n",
      "  X  |     |     \n",
      "_____|_____|_____\n",
      "     |     |     \n",
      "  O  |  X  |     \n",
      "_____|_____|_____\n",
      "     |     |     \n",
      "  O  |     |  X  \n",
      "     |     |     \n",
      "Congratulations Player 1, you won!\n",
      "Do you want to keep playing? n\n",
      "Thank you for playing :)\n"
     ]
    }
   ],
   "source": [
    "# Import clear_output to clear the current outputbelow the cell\n",
    "from IPython.display import clear_output\n",
    "\n",
    "# Variable to keep game playing\n",
    "game_on = True\n",
    "\n",
    "\n",
    "while game_on:\n",
    "    \n",
    "    # Variable to ask player for choice if nobody won yet and the board is not full\n",
    "    game_won_or_full = False\n",
    "    # Clear any historical output, start the game and show the game board\n",
    "    clear_output()\n",
    "    # First Cell List\n",
    "    cell_list = [' ',' ',' ',' ',' ',' ',' ',' ',' ']\n",
    "    # Game introduction\n",
    "    d = intro()\n",
    "    # Print empty board\n",
    "    print_board(cell_list)\n",
    "    # decide randomly which player goes first\n",
    "    first = whos_first()\n",
    "    \n",
    "    # Keep playing as long as there is no winner and the board is not full\n",
    "    while not game_won_or_full:\n",
    "\n",
    "        # Ask player 1 to choose the next position\n",
    "        if first == 'Player 1':\n",
    "            second = 'Player 2'\n",
    "            cell_list = position_choice_p1(d,cell_list)\n",
    "        else:\n",
    "            second = 'Player 1'\n",
    "            cell_list = position_choice_p2(d,cell_list)\n",
    "        # Clear any historical output and show the game board\n",
    "        clear_output()\n",
    "        print_board(cell_list)\n",
    "        # Check if there is a winner or the board is full\n",
    "        game_won_or_full = check_if_won_or_full(cell_list,first)\n",
    "        if not game_won_or_full:\n",
    "            # Ask player 2 to choose the next position\n",
    "            if first == 'Player 1':\n",
    "                cell_list = position_choice_p2(d,cell_list)\n",
    "            else:\n",
    "                cell_list = position_choice_p1(d,cell_list)\n",
    "            # Clear any historical output and show the game board\n",
    "            clear_output()\n",
    "            print_board(cell_list)\n",
    "            # Check if there is a winner or the board is full\n",
    "            game_won_or_full = check_if_won_or_full(cell_list,second)\n",
    "\n",
    "    \n",
    "    # Ask the players if they want to play again\n",
    "    game_on = gameon_choice()\n"
   ]
  },
  {
   "cell_type": "code",
   "execution_count": null,
   "metadata": {},
   "outputs": [],
   "source": []
  },
  {
   "cell_type": "code",
   "execution_count": null,
   "metadata": {},
   "outputs": [],
   "source": []
  },
  {
   "cell_type": "code",
   "execution_count": null,
   "metadata": {},
   "outputs": [],
   "source": []
  },
  {
   "cell_type": "code",
   "execution_count": null,
   "metadata": {},
   "outputs": [],
   "source": []
  },
  {
   "cell_type": "code",
   "execution_count": null,
   "metadata": {},
   "outputs": [],
   "source": []
  },
  {
   "cell_type": "code",
   "execution_count": null,
   "metadata": {},
   "outputs": [],
   "source": []
  }
 ],
 "metadata": {
  "kernelspec": {
   "display_name": "Python 3",
   "language": "python",
   "name": "python3"
  },
  "language_info": {
   "codemirror_mode": {
    "name": "ipython",
    "version": 3
   },
   "file_extension": ".py",
   "mimetype": "text/x-python",
   "name": "python",
   "nbconvert_exporter": "python",
   "pygments_lexer": "ipython3",
   "version": "3.8.3"
  }
 },
 "nbformat": 4,
 "nbformat_minor": 4
}
