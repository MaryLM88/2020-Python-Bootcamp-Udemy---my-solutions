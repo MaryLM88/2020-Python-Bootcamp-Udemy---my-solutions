{
 "cells": [
  {
   "cell_type": "code",
   "execution_count": 3,
   "metadata": {},
   "outputs": [],
   "source": [
    "import csv"
   ]
  },
  {
   "cell_type": "code",
   "execution_count": 4,
   "metadata": {},
   "outputs": [],
   "source": [
    "f = open('find_the_link.csv',encoding='udf-8')"
   ]
  },
  {
   "cell_type": "code",
   "execution_count": 5,
   "metadata": {},
   "outputs": [],
   "source": [
    "csv_f = csv.reader(f)\n",
    "f_lines = list(csv_f)"
   ]
  },
  {
   "cell_type": "code",
   "execution_count": 9,
   "metadata": {},
   "outputs": [],
   "source": [
    "link = ''\n",
    "i = 0\n",
    "for line in f_lines:\n",
    "    link += str(line[i])\n",
    "    i += 1\n",
    "    \n",
    "        "
   ]
  },
  {
   "cell_type": "code",
   "execution_count": 11,
   "metadata": {},
   "outputs": [
    {
     "data": {
      "text/plain": [
       "'https://drive.google.com/open?id=1G6SEgg018UB4_4xsAJJ5TdzrhmXipr4Q'"
      ]
     },
     "execution_count": 11,
     "metadata": {},
     "output_type": "execute_result"
    }
   ],
   "source": [
    "link"
   ]
  },
  {
   "cell_type": "code",
   "execution_count": 13,
   "metadata": {},
   "outputs": [],
   "source": [
    "f.close()"
   ]
  },
  {
   "cell_type": "code",
   "execution_count": 17,
   "metadata": {},
   "outputs": [],
   "source": [
    "import PyPDF2\n",
    "f = open('Find_the_Phone_Number.pdf','br')"
   ]
  },
  {
   "cell_type": "code",
   "execution_count": 18,
   "metadata": {},
   "outputs": [],
   "source": [
    "pdf_reader = PyPDF2.PdfFileReader(f)"
   ]
  },
  {
   "cell_type": "code",
   "execution_count": 19,
   "metadata": {},
   "outputs": [],
   "source": [
    "pdf_text = []\n",
    "for p in range(pdf_reader.numPages):\n",
    "    page = pdf_reader.getPage(p)\n",
    "    pdf_text.append(page.extractText())"
   ]
  },
  {
   "cell_type": "code",
   "execution_count": 21,
   "metadata": {},
   "outputs": [
    {
     "data": {
      "text/plain": [
       "17"
      ]
     },
     "execution_count": 21,
     "metadata": {},
     "output_type": "execute_result"
    }
   ],
   "source": [
    "len(pdf_text)"
   ]
  },
  {
   "cell_type": "code",
   "execution_count": 22,
   "metadata": {},
   "outputs": [
    {
     "data": {
      "text/plain": [
       "17"
      ]
     },
     "execution_count": 22,
     "metadata": {},
     "output_type": "execute_result"
    }
   ],
   "source": [
    "pdf_reader.numPages"
   ]
  },
  {
   "cell_type": "code",
   "execution_count": 26,
   "metadata": {},
   "outputs": [],
   "source": [
    "import re\n",
    "numbers = []\n",
    "for page in pdf_text:\n",
    "    numbers.append(re.findall(r'[\\d]+',page))"
   ]
  },
  {
   "cell_type": "code",
   "execution_count": 28,
   "metadata": {},
   "outputs": [
    {
     "data": {
      "text/plain": [
       "[['30', '000', '60', '30'],\n",
       " [],\n",
       " [],\n",
       " [],\n",
       " [],\n",
       " ['30', '000'],\n",
       " ['60', '30'],\n",
       " [],\n",
       " [],\n",
       " [],\n",
       " [],\n",
       " ['30', '000', '60', '30'],\n",
       " [],\n",
       " ['505', '503', '4455'],\n",
       " [],\n",
       " [],\n",
       " []]"
      ]
     },
     "execution_count": 28,
     "metadata": {},
     "output_type": "execute_result"
    }
   ],
   "source": [
    "numbers"
   ]
  },
  {
   "cell_type": "code",
   "execution_count": 36,
   "metadata": {},
   "outputs": [
    {
     "data": {
      "text/plain": [
       "<re.Match object; span=(1727, 1728), match='5'>"
      ]
     },
     "execution_count": 36,
     "metadata": {},
     "output_type": "execute_result"
    }
   ],
   "source": [
    "re.search(r'[\\d{3}]',pdf_text[13])"
   ]
  },
  {
   "cell_type": "code",
   "execution_count": 40,
   "metadata": {},
   "outputs": [
    {
     "data": {
      "text/plain": [
       "'\\nphone number is 505.503.4455. So h'"
      ]
     },
     "execution_count": 40,
     "metadata": {},
     "output_type": "execute_result"
    }
   ],
   "source": [
    "pdf_text[13][1710:1745]"
   ]
  },
  {
   "cell_type": "code",
   "execution_count": 3,
   "metadata": {},
   "outputs": [],
   "source": [
    "import PyPDF2\n",
    "f = open('Bank Financial Statement Template.pdf','br')"
   ]
  },
  {
   "cell_type": "code",
   "execution_count": 4,
   "metadata": {},
   "outputs": [],
   "source": [
    "pdf_reader = PyPDF2.PdfFileReader(f)"
   ]
  },
  {
   "cell_type": "code",
   "execution_count": 5,
   "metadata": {},
   "outputs": [
    {
     "data": {
      "text/plain": [
       "12"
      ]
     },
     "execution_count": 5,
     "metadata": {},
     "output_type": "execute_result"
    }
   ],
   "source": [
    "pdf_reader.numPages"
   ]
  },
  {
   "cell_type": "code",
   "execution_count": 6,
   "metadata": {},
   "outputs": [],
   "source": [
    "pdf_text = []\n",
    "for p in range(pdf_reader.numPages):\n",
    "    page = pdf_reader.getPage(p)\n",
    "    pdf_text.append(page.extractText())\n",
    "    "
   ]
  },
  {
   "cell_type": "code",
   "execution_count": 7,
   "metadata": {},
   "outputs": [
    {
     "data": {
      "text/plain": [
       "['Industry Standard Financial Statement\\n \\nThis Statement is for use in the MARP\\n \\n1\\n \\n \\n \\n \\n \\n \\n \\n \\n \\n \\n \\n \\n \\n \\n \\n \\n \\n \\n \\n \\n \\n \\n \\n \\n \\n \\n \\n \\n \\n \\n \\n \\n \\n \\n \\n \\n \\n \\n \\n \\n \\nSection A: \\nAccount & Borrower Details\\n \\n \\nBorrower Information:\\n \\n \\n \\n \\nBorrower 1\\n \\nBorrower 2\\n \\nA1\\n \\nName\\n \\n \\n \\nA2\\n \\nMortgage Account Reference No (s)\\n \\n \\n \\nA3\\n \\n\\n \\n \\n \\nA4\\n \\n\\n \\n \\n \\nA5\\n \\n\\n \\n \\n \\nA6\\n \\nCorrespondence Address\\n \\n \\n \\n \\nA7\\n \\nProperty Address \\n \\nif different to correspondence Address\\n \\n \\n \\n \\n \\n \\nPlease indicate preferred \\ncontact method \\n \\n \\n \\nA8\\n \\nHome Telephone\\n \\n \\n \\n \\n \\nA9\\n \\nMobile\\n \\n \\n \\n \\nA10\\n \\nWork Telephone\\n \\n \\n \\n \\nA11\\n \\nE\\n-\\nmail\\n \\n \\n \\n \\nA12\\n \\nMarital Status\\n \\n \\n \\n \\nA13\\n \\nDate of birth \\n \\n  \\nDD/MM/YYYY\\n \\n \\n \\nDD/MM/YYYY\\n \\nA14\\n \\nNo. and age of dependent children\\n \\n \\nChild1\\n \\nChild 2\\n \\nChild 3\\n \\nChild 4\\n \\n \\n \\n \\nA15\\n \\nTotal number in household\\n \\n \\n \\n \\n \\nA16\\n \\nEmployed Y/N;\\n \\nif \\nself\\n-\\nemployed give details\\n \\n \\n \\n \\n \\nA17\\n \\nOccupation (if unemployed give previous occupation)\\n \\n \\n \\n \\nA18\\n \\nIn \\nPermanent\\n \\nemployment \\n \\nY/N\\n \\n \\n \\nA19\\n \\nName of Employer &\\n \\nLength of Service\\n \\n \\n \\n \\nA20\\n \\nReason(s) for Review/Arrears \\n \\n \\n \\n \\n \\n',\n",
       " ' \\n \\n \\n \\n \\n \\n \\n \\n \\n \\n \\n \\n \\n \\n \\n \\n \\n \\n \\n \\n \\n \\n \\n \\n \\n \\n \\n \\n \\n \\n \\n \\n \\n \\n \\n \\n \\n \\n                                        \\n        \\n \\n1\\n \\nDo not include any deductions made from your salary at source (e.g., pension contribution, health insurance etc.) anywhere \\nelse on this form.  \\n \\nSection B: \\nYour Monthly Income\\n \\nBorrower 1\\n \\nBorrower 2\\n \\nTOTAL\\n \\nB1\\n \\nGross \\n \\nMonthly Salary\\n \\n(before tax \\nand any other deductions at source)\\n \\n \\n \\n \\n \\n \\nB2\\n \\nNet \\nMonthly Salary (after tax and \\nany other deductions at source)\\n1\\n \\n \\n \\n \\nB3\\n \\nMonthly Social Welfare Benefits \\n \\nPlease list\\n \\n \\n \\n \\n \\n \\n \\n \\n \\n \\n \\n \\n \\nB3 (a)\\n \\nBenefit\\n-\\n \\n \\n \\n \\n \\nB3 (b)\\n \\nBenefit\\n-\\n \\n \\n \\n \\nB3 (c)\\n \\nBenefit\\n-\\n \\n \\n \\n \\n \\nB4\\n \\nChild Benefit\\n \\n \\n \\n \\n \\n \\n \\n \\nB5\\n \\nMortgage Interest Supplement\\n \\n \\n \\n \\n \\n \\n \\n \\nB6\\n \\nFamily Income Support\\n \\n \\n \\n \\nB7\\n \\nMaintenance \\n \\n \\n \\n \\nB8\\n \\nOther, e.g. Pension, room rent, \\ngrants (Please Specify)\\n \\n \\n \\n \\nB9\\n \\nMonthly Income from Property \\nassets (other than primary \\nresidence) (see E5)\\n \\n \\n \\n \\nB10\\n \\nMonthly income from non\\n-\\nproperty \\nassets (see F8)\\n \\n \\n \\n \\nB11\\n \\nTotal Monthly Income\\n \\n(\\nsum of \\nB2\\n \\nto\\n \\nB\\n10\\n)\\n \\n \\n \\n \\n \\n \\n \\n \\nG1\\n \\n',\n",
       " ' \\n \\n \\n \\n \\n \\n \\n                                        \\n        \\n \\n2\\n \\nAverage charge calculated by totalling last three utility bills and dividing by the number of months to get \\nthe average monthly \\ncost.\\n \\n3\\n \\nPlease indentify if these bills are bundled. \\n \\n4\\n \\nMedical expenses include dentist, optician and any other costs related to health.\\n \\n5\\n \\nDo not include if Health Insurance is deducted from your wages at source,( i.e., if it has alrea\\ndy been deducted from B2)\\n \\nSection C: \\nMonthly Household Expenditure\\n \\n \\nAverage Charge\\n2\\n \\nArrears\\n \\n(where \\napplicable)\\n \\n \\nUtilities\\n \\n \\n \\n \\nC1\\n \\nElectricity\\n \\n \\n \\n \\nC2\\n \\nGas /Oil\\n \\n \\n \\n \\nC3\\n \\nPhone (Landline &\\n \\nInternet) \\n3\\n \\n \\n \\nC4\\n \\nTV/\\nCable\\n3\\n \\n \\n \\nC5\\n \\nMobile Phone\\n \\n \\n \\nC6\\n \\nRefuse Charges\\n \\n \\n \\nC7\\n \\nTV Licence\\n \\n \\n \\n \\nHousehold\\n \\n \\n \\nC8\\n \\nChildcare\\n \\n \\n \\nC9\\n \\nElderly care\\n \\n(e.g., carer, nursing home fees etc)\\n \\n \\n \\nC10\\n \\nFood\\n/H\\nousekeeping\\n/Personal Care\\n    \\n \\n \\n \\nC11\\n \\nClothing and Footwear\\n \\n \\n \\nC1\\n2\\n \\nHousehold Repairs/Maintenance      \\n \\n \\n \\n \\nTransport Costs\\n \\n \\n \\nC1\\n3\\n \\nPetrol\\n \\n \\n \\nC1\\n4\\n \\nMotor Insurance \\n/\\nTax\\n/NCT\\n \\n \\n \\nC1\\n5\\n \\nRail/Bus/Taxi Costs\\n \\n(including school transport \\ncosts for children)\\n \\n \\n \\nC1\\n6\\n \\nCar Maintenance/Repairs\\n \\n \\n \\nC1\\n7\\n \\nCar Parking and Tolls\\n \\n \\n \\n \\nPrimary Residence \\nMortgage\\n-\\nrelated \\nCosts  \\n \\n \\n \\nC1\\n8\\n \\nMortgage Protection/Endowment Premium\\n \\n \\n \\nC1\\n9\\n \\nPayment Protection\\n \\n \\n \\nC\\n20\\n \\nHouse Insurance\\n \\n \\n \\n \\nEducation\\n \\n \\n \\nC\\n21\\n \\nBooks \\n \\n \\n \\nC2\\n2\\n \\nSchool/ College \\nFees\\n \\n \\n \\nC2\\n3\\n \\nUniforms\\n \\n \\n \\nC24\\n \\nExtra Curricular activities (e.g. school\\n \\noutings)\\n \\n \\n \\nC25\\n \\nOther (e.g. voluntary contributions)\\n \\n \\n \\n \\nMedical\\n \\n \\n \\nC26\\n \\n \\nMedical Expenses\\n \\nand Prescription Charges\\n4\\n \\n \\n \\n \\nC2\\n7\\n \\nHealth Insurance\\n5\\n \\n \\n \\n \\nSocial  \\n \\n \\n \\nC2\\n8\\n \\nLifestyle Expenses (e.g., family events, Christmas, \\nBirthdays, eating out etc.)\\n \\n \\n \\nC2\\n9\\n \\nClub \\nmembership\\n \\n \\n \\nC\\n30\\n \\nOther \\n-\\n \\nplease specify\\n \\n \\n \\n',\n",
       " ' \\n \\n                                        \\n        \\n \\n6\\n \\nDo not include if Pension Contribution is deducted from your wages at source,( i.e., if it has already been deducted from B2)\\n \\n \\n \\n \\nAverage \\nCharge\\n \\n \\nArrears (where \\napplicable)\\n \\n \\nOther\\n \\n \\n \\nC\\n31\\n \\nLife Assurance\\n \\n \\n \\nC32\\n \\nPension Contribution\\n6\\n \\n \\n \\nC3\\n3\\n \\nMaintenance\\n \\npaid \\n \\nto\\n \\nspouse/child (if applicable)\\n \\n \\n \\n \\n \\nC3\\n4\\n \\nRent \\n \\n \\n \\nC35 (a)\\n \\nProperty \\nService/Management Charges\\n \\n \\n \\nC35 (b)\\n \\nOther \\n-\\n \\nplease specify\\n \\n \\n \\nC35 (c)\\n \\nOther \\n-\\n \\nplease specify\\n \\n \\n \\nC36\\n \\nMonthly expenditure on property assets (see E5)\\n \\n \\n \\nC3\\n7\\n \\nMonthly Savings\\n \\n \\n \\n \\n \\n \\n \\nC3\\n8\\n \\nTotal Monthly Expenditure\\n \\n(sum of C1\\n \\nto C3\\n7\\n)\\n \\n \\nG2\\n \\n \\nPlease provide details of any steps you propose to take to reduce your monthly expenditure \\nand\\n \\nthe savings you expect to achieve:\\n \\n \\n \\nPlease provide details of any steps you have already taken to reduce your monthly \\nexpenditure and the savings you have achieved: \\n \\n',\n",
       " ' \\n \\n \\n                                        \\n        \\n \\n7\\n \\ne.g., fines, instalment orders, judgements\\n \\n \\nSection D: \\nYour Current Monthly Debt\\n \\nPayments\\n \\n \\nDebt Type\\n \\nMonthly Repayments\\n \\nRemaining \\nTerm\\n \\nTotal \\nOutstanding \\n\\n \\nArrears \\n\\n \\nLender\\n \\nPurpose of\\n \\nLoan\\n \\nSecured?\\n \\nY/N\\n \\nCurrently \\nRestructured? \\nY/N\\n \\nPayment \\nProtection \\nInsurance\\n \\nY/N\\n \\n\\n \\n\\n \\nD1\\n \\nMortgage\\n \\nfor \\nPrimary Residence\\n \\n \\n \\nG4\\n \\n \\n \\n \\n \\n \\n \\n \\n \\nD2\\n \\nCourt Mandated \\nDebt\\n  \\n(Please \\nSpecify)\\n7\\n \\n \\n \\n \\n \\n \\n \\n \\n \\n \\n \\n \\n \\nD3\\n \\nCourt Mandated \\nDebt   \\n \\n \\n \\n \\n \\n \\n \\n \\n \\n \\n \\nD\\n4\\n \\nCredit Union\\n \\n \\n \\n \\n \\n \\n \\n \\n \\n \\n \\nD5\\n \\nCredit Union \\n \\n \\n \\n \\n \\n \\n \\n \\n \\n \\n \\nD\\n6\\n \\nOverdraft\\n \\n \\n \\n \\n \\n \\n \\n \\n \\n \\n \\nD\\n7\\n \\nHire Purchase \\n \\n \\n \\n \\n \\n \\n \\n \\n \\n \\n \\n \\nD\\n8\\n \\nStore Card \\n \\n \\n \\n \\n \\n \\n \\n \\n \\n \\n \\n \\nD\\n9\\n \\nCatalogue Debt \\n \\n \\n \\n \\n \\n \\n \\n \\n \\n \\n \\n \\nD\\n10\\n \\nCredit Card 1\\n \\n \\n \\n \\n \\n \\n \\n \\n \\n \\n \\n \\nD11\\n \\nCredit Card 2\\n \\n \\n \\n \\n \\n \\n \\n \\n \\n \\n \\n \\nD12\\n \\nCredit Card 3\\n \\n \\n \\n \\n \\n \\n \\n \\n \\n \\n \\n \\nD13\\n \\nPersonal Loan 1 \\n(please specify)\\n \\n \\n \\n \\n \\n \\n \\n \\n \\n \\n \\n \\nD14\\n \\nPersonal Loan 2\\n \\n(Please specify)\\n \\n \\n \\n \\n \\n \\n \\n \\n \\n \\n \\n \\nD15\\n \\nPersonal \\nLoan 3\\n \\n(please specify)\\n \\n \\n \\n \\n \\n \\n \\n \\n \\n \\n \\n \\nD16\\n \\nLoans from family/ \\nfriends\\n \\n \\n \\n \\n \\n \\n \\n \\n \\n \\n \\nD1\\n7\\n \\nMortgage Debt on \\nproperty other than \\nprimary residence \\n(see E5)\\n \\n \\n \\n \\n \\n \\n \\n \\n \\n \\n \\n',\n",
       " ' \\n \\n \\n \\n \\n \\n \\n \\n \\n \\n \\n \\n \\n \\n \\n \\n \\n \\n \\n \\n \\n \\n \\n \\nDebt Type\\n \\nMonthly Repayments\\n \\nRemaining \\nTerm\\n \\nTotal \\nOutstanding \\n\\n \\nArrears \\n\\n \\nLender\\n \\nPurpose of \\nLoan\\n \\nSecured?\\n \\nY/N\\n \\nCurrently \\nRestructured?\\n \\nY/N\\n \\nPayment \\nprotection \\nInsurance Y/N\\n \\n\\n \\n\\n \\n \\nD18\\n \\nO\\nther Debt (please \\nspecify)\\n \\n \\n \\n \\n \\n \\n \\n \\n \\n \\n \\n \\nD1\\n9\\n \\nOther Debt\\n \\n \\n \\n \\n \\n \\n \\n \\n \\n \\n \\nD20\\n \\n \\n \\n \\n \\n \\n \\n \\n \\n \\n \\n \\nD21\\n \\n \\n \\n \\n \\n \\n \\n \\n \\n \\n \\n \\nD22\\n \\nTotal\\n \\n(sum of \\nD2\\n \\nto \\nD21\\n)\\n \\n \\n \\nG5\\n \\n \\n \\n \\n \\n \\n \\n \\n \\n',\n",
       " ' \\n \\n \\n \\n \\nProperty Assets (other than Primary Residence)\\n \\nProperty\\n \\nAddress\\n \\nDate of \\nPurchase\\n \\n1\\n \\n \\n \\n2\\n \\n \\n \\n3\\n \\n \\n \\n4\\n \\n \\n \\n \\n \\n \\n \\n \\n \\n \\n \\n \\n \\n \\n \\n \\n \\n \\n \\n                                        \\n        \\n \\n8\\n \\nFor\\n \\nexample, sole or joint ownership.  \\nWhere a \\nproperty/premises is not 100% owned by customer(s), please state the % amount that is owned\\n \\n9\\n \\nPlease provide a reasonable estimate of the current value of these assets. \\n \\n \\nSection E: \\nProperty Assets\\n \\n(other than Primary Residence)\\n \\n \\nProperty\\n \\n(give \\ndetails \\nbelow)\\n \\nProperty \\nType\\n \\n(e.g. \\nB\\nuy \\nto let\\n)\\n \\nOwner\\n-\\nship\\n \\nType\\n8\\n \\nCurrent \\nValue \\n(est)\\n9\\n \\n\\n \\nLoan \\n\\n \\nArrears \\nBalance \\n\\n \\nMonthly \\nRent\\nal \\nIncome\\n \\n\\n \\nMonthly \\nExpenditure \\n(e.g., \\nupkeep\\n,\\n \\nmaintenance\\n)\\n \\nRe\\n-\\nstructured  \\nY/N\\n \\nMonthly \\nMortgage \\nPayments\\n \\nLender\\n \\nFor \\nSale \\n \\nY/N\\n \\n\\n \\nBeing Paid \\n\\n \\nE1\\n \\n1\\n \\n \\n \\n \\n \\n \\n \\n \\n \\n \\n \\n \\n \\nE2\\n \\n2\\n \\n \\n \\n \\n \\n \\n \\n \\n \\n \\n \\n \\n \\nE3\\n \\n3\\n \\n \\n \\n \\n \\n \\n \\n \\n \\n \\n \\n \\n \\nE4\\n \\n4\\n \\n \\n \\n \\n \\n \\n \\n \\n \\n \\n \\n \\n \\nE5\\n \\nTotal\\n \\n \\n \\n \\n \\n \\n \\n \\nB\\n9\\n \\n \\nC \\n3\\n6\\n \\n \\n \\n \\nD\\n \\n1\\n7\\n \\n \\n \\n\\n \\nMONTHLY INCOME AND EXPENDITURES RELATED TO \\nPROPERTY ASSETS SHOULD ALSO BE INCLUDED IN \\nSECTIONS B AND C RESPECTIVELY\\n \\n\\n \\nMONTHLY MORTGAGE REPAYMENTS RELATING TO \\nPROPERTY ASSETS SHOULD BE INCLUDED IN SECTION D\\n \\n',\n",
       " ' \\n \\n \\n \\n \\nPlease \\nlist\\n \\nall \\nother \\nliabilities, \\nfor example any guarantees given with respect to \\ncompany borrowing or borrowing by a family member.\\n \\n \\n \\n \\n \\n \\n \\n \\n \\n \\n \\n \\n \\n \\n \\n \\n \\n \\n \\n \\n \\n \\n \\n \\n \\nSection F: Non\\n-\\nP\\nroperty Assets\\n \\n \\nAsset Type\\n \\nOriginal \\nCost/ \\nValue\\n\\n \\nCurrent  \\n\\n \\nNet Monthly \\nIncome\\n \\nPlease Give \\nAny Relevant \\nDetails\\n \\nF1\\n \\nSavings/deposits/current account\\n \\n \\n \\n \\n \\nF2\\n \\nShares\\n \\n \\n \\n \\n \\nF3\\n \\nMotor \\nVehicle\\n \\n(s)   \\n \\n \\n \\n \\n \\nF4\\n \\nRedundancy \\nPayment(s)\\n \\n \\n \\n \\n \\nF5\\n \\nLong\\n-\\nterm investment (s)\\n \\n \\n \\n \\n \\nF6\\n \\nOther investment(s)\\n \\n \\n \\n \\n \\nF7\\n \\nOther Assets (e.g., stock, machinery \\netc)\\n \\n \\n \\n \\n \\nF8\\n \\nTotal\\n \\n(sum of F1 to F7)\\n \\n \\n \\n \\nB\\n10\\n \\n \\nPlease provide any other information which you believe to be relevant to above:\\n \\n',\n",
       " ' \\n \\nI/we understand that the information provided will only be used for the purpose of assisting my \\nlender to assess my financial \\nsituation under its Mortgage Arrears Resolution Process.\\n \\n \\nProtecting Your Information\\n \\n\\nccordance with \\nits \\n\\n.  For more \\n\\nwww.dataprotection.ie\\n\\n \\n \\nI declare that the information I have provided represents my/our financial situation, and commit to informing my lender if my\\n \\nsituation \\nchanges.\\n \\n \\nI consent to [name of lender] conducting a credit\\n \\nreference check.\\n \\n \\nSigned: _______________            Date: ____________\\n \\n \\n[\\nNote: \\nDeclarations confirming the accuracy of the information provided and consent to a credit reference check must be completed fo\\nr every \\nSFS.  Any other declarations requiring the\\n \\n\\nregarding the borrowers financial situation) must be optional (i.e., a lender cannot deem the SFS to be incomplete if such de\\nclarations are not \\nsigned by the cons\\numer).] \\n \\n \\n \\n \\n',\n",
       " ' \\n \\n \\n \\n \\n \\n \\n \\n \\n \\n \\n \\n \\n \\n \\n \\nSection G: Financial Statement \\nSummary\\n \\n(for office use only)\\n \\nG1\\n \\nTotal Monthly Income \\n(B\\n11\\n)\\n \\n \\nG2\\n \\nLess Total Monthly Expenditure \\n(C3\\n8\\n \\n(                      \\n)\\n \\nG3\\n \\nSub\\n-\\nTotal (G1 minus G2)\\n \\n \\nG4\\n \\nLess Mortgage Repayments Due (D1)\\n \\n(                  \\n     \\n)\\n \\nG\\n5\\n \\nLess \\nOther \\nMonthly Debt Due \\n(D\\n22\\n)\\n \\n(                       )\\n \\nG\\n6\\n \\nTotal \\nSurplus/Deficit (subtract G4 and G5 from G3) \\n \\n \\n',\n",
       " ' \\n \\n \\nGuiding Principles for completing the SFS\\n \\n \\n1.\\n \\nWe at [name of lender] are fully \\ncommitted to working with customers who are \\nin, or are facing, financial difficulties with their mortgage repayments in order \\nthat a mutually\\n-\\nacceptable arrangement can be agreed. We will actively \\nencourage contact with such customers through web sites, me\\ndia and printed \\nmaterial.\\n \\n \\n2.\\n \\nWe have specially\\n-\\ntrained personnel in our offices and branches, including \\nspecialised telephone contact points, to deal with customers facing or in \\nfinancial difficulties. \\n \\n \\n3.\\n \\nThis Standard Financial Statement (SFS) is designed to\\n \\nassist you in setting \\nout your current financial circumstances. \\n \\n \\n4.\\n \\nWe consider that the completion of the SFS is a serious undertaking and we \\nwill work with you to ensure that the information is accurate, enabling us to \\nwork with you to determine the most \\nappropriate and viable option in each \\nparticular customer case. \\n \\n \\n5.\\n \\nThe easiest way to see where you stand financially is to gather all the \\nrelevant information and documents so that you can write down all the money \\nyou have coming in and going out each mont\\nh and complete an SFS. \\n \\n(\\nIf your income is weekly, multiply it by 52 and divide the result by 12 to get \\nyour monthly income.\\n)\\n  \\n \\n \\n6.\\n \\nIn the SFS you will have to provide information on your current income, \\nexpenses and other amounts y\\nou owe and any assets you o\\nwn.  It is \\nimportant that you include all of your basic living expenses. \\n \\nYou are also \\nencouraged to ensure that you are maximising your income, including what \\nsocial welfare entitlements you may be eligible for such as Mortgage Interest \\nSupplement (see \\nwww.keepingyourhome.ie\\n).\\n \\n \\n7.\\n \\nIt is important to fill out the SFS fully and accurately and to provide any \\nrelevant documentation that we may need to assess your situation; we will \\nonly seek information that is relevant to this assessment. \\n \\n \\n8.\\n \\nYour completed SFS and other factors relating\\n \\nto your case will be assessed \\nby our Arrears Support Unit which will decide whether or not an alternative \\nrepayment arrangement is necessary and, if so, what type(s) of alternative \\nrepayment arrangement(s) appropriate to your circumstances can be made \\nava\\nilable. \\n \\n \\n9.\\n \\nIf an alternative repayment arrangement is not offered to you, we will give you \\na reason for that decision in writing. You will have the right to appeal that \\ndecision; you may appeal to us initially and subsequently to the Financial \\nServices Ombu\\ndsman.\\n \\n \\n10.\\n \\nIf you require further information, you can avail of support material available \\nthrough a number of sources including our website [\\nrelevant address inserted \\nhere\\n], \\nwww.keepingyourhome.ie\\n.  You can also\\n \\ns\\neek independent advice \\nfrom MABS\\n \\n(\\nwww.mabs.ie\\n) or an appropriate alternative.  \\nIf you give us your \\nwritten \\nconsent we will liaise with a third party, nominated by you, to act on \\nyour behalf.\\n \\nends\\n \\n',\n",
       " ' \\n \\n \\n \\n \\n \\n']"
      ]
     },
     "execution_count": 7,
     "metadata": {},
     "output_type": "execute_result"
    }
   ],
   "source": [
    "pdf_text"
   ]
  },
  {
   "cell_type": "code",
   "execution_count": null,
   "metadata": {},
   "outputs": [],
   "source": []
  }
 ],
 "metadata": {
  "kernelspec": {
   "display_name": "Python 3",
   "language": "python",
   "name": "python3"
  },
  "language_info": {
   "codemirror_mode": {
    "name": "ipython",
    "version": 3
   },
   "file_extension": ".py",
   "mimetype": "text/x-python",
   "name": "python",
   "nbconvert_exporter": "python",
   "pygments_lexer": "ipython3",
   "version": "3.8.3"
  }
 },
 "nbformat": 4,
 "nbformat_minor": 4
}
