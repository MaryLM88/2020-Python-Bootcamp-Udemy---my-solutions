{
 "cells": [
  {
   "cell_type": "code",
   "execution_count": null,
   "metadata": {},
   "outputs": [],
   "source": [
    "# Let's use while loops to create a guessing game.\n",
    "\n",
    "# The Challenge:\n",
    "\n",
    "# Write a program that picks a random integer from 1 to 100, and has players guess the number. The rules are:\n",
    "\n",
    "# If a player's guess is less than 1 or greater than 100, say \"OUT OF BOUNDS\"\n",
    "# On a player's first turn, if their guess is\n",
    "# within 10 of the number, return \"WARM!\"\n",
    "# further than 10 away from the number, return \"COLD!\"\n",
    "# On all subsequent turns, if a guess is\n",
    "# closer to the number than the previous guess return \"WARMER!\"\n",
    "# farther from the number than the previous guess, return \"COLDER!\"\n",
    "# When the player's guess equals the number, tell them they've guessed correctly and how many guesses it took!"
   ]
  },
  {
   "cell_type": "code",
   "execution_count": 1,
   "metadata": {},
   "outputs": [],
   "source": [
    "from random import randint\n",
    "x = randint(1,100)"
   ]
  },
  {
   "cell_type": "code",
   "execution_count": 2,
   "metadata": {},
   "outputs": [
    {
     "name": "stdout",
     "output_type": "stream",
     "text": [
      "Welcome to the Guessing Game.\n",
      "You have to guess a number between 1 and 100\n"
     ]
    }
   ],
   "source": [
    "print('Welcome to the Guessing Game.\\nYou have to guess a number between 1 and 100')"
   ]
  },
  {
   "cell_type": "code",
   "execution_count": 3,
   "metadata": {
    "scrolled": true
   },
   "outputs": [
    {
     "name": "stdout",
     "output_type": "stream",
     "text": [
      "Enter an integer between 1 and 100: 500\n",
      "OUT OF BOUNDS!\n",
      "Enter an integer between 1 and 100: 120\n",
      "OUT OF BOUNDS!\n",
      "Enter an integer between 1 and 100: 0\n",
      "OUT OF BOUNDS!\n",
      "Enter an integer between 1 and 100: 22\n",
      "WARM!\n",
      "Enter an integer between 1 and 100: 30\n",
      "COLDER!\n",
      "Enter an integer between 1 and 100: 20\n",
      "WARMER!\n",
      "Enter an integer between 1 and 100: 18\n",
      "Enter an integer between 1 and 100: 17\n",
      "COLDER!\n",
      "Enter an integer between 1 and 100: 19\n",
      "Congratulations! You guessed the number after 9 guesses!\n"
     ]
    }
   ],
   "source": [
    "user_guess = [0]\n",
    "while True:\n",
    "    user_guess.append(int(input('Enter an integer between 1 and 100: ')))\n",
    "    if user_guess[-1] <1 or user_guess[-1] >100:\n",
    "        print('OUT OF BOUNDS!')\n",
    "    elif abs(x-user_guess[-1])<10:\n",
    "        print('WARM!')\n",
    "        break\n",
    "    else:\n",
    "        print('COLD!')\n",
    "        break\n",
    "        \n",
    "while True:\n",
    "    user_guess.append(int(input('Enter an integer between 1 and 100: ')))\n",
    "    if user_guess[-1] == x:\n",
    "        break\n",
    "    elif user_guess[-1] <1 or user_guess[-1] >100:\n",
    "        print('OUT OF BOUNDS!\\n')\n",
    "    elif abs(x-user_guess[-1])<abs(x-user_guess[-2]):\n",
    "        print('WARMER!')\n",
    "    elif abs(x-user_guess[-1])>abs(x-user_guess[-2]):\n",
    "        print('COLDER!')\n",
    "        \n",
    "print(f'Congratulations! You guessed the number after {len(user_guess)-1} guesses!')"
   ]
  },
  {
   "cell_type": "code",
   "execution_count": null,
   "metadata": {},
   "outputs": [],
   "source": [
    "# while True:\n",
    "#     # statement(s)\n",
    "#     if not condition:\n",
    "#         break\n",
    "#\n",
    "# al posto del do while loop, che in Python non c'è"
   ]
  },
  {
   "cell_type": "code",
   "execution_count": null,
   "metadata": {},
   "outputs": [],
   "source": []
  }
 ],
 "metadata": {
  "kernelspec": {
   "display_name": "Python 3",
   "language": "python",
   "name": "python3"
  },
  "language_info": {
   "codemirror_mode": {
    "name": "ipython",
    "version": 3
   },
   "file_extension": ".py",
   "mimetype": "text/x-python",
   "name": "python",
   "nbconvert_exporter": "python",
   "pygments_lexer": "ipython3",
   "version": "3.8.3"
  }
 },
 "nbformat": 4,
 "nbformat_minor": 4
}
