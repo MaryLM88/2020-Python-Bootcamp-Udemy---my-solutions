{
 "cells": [
  {
   "cell_type": "code",
   "execution_count": 1,
   "metadata": {},
   "outputs": [
    {
     "data": {
      "text/plain": [
       "'C:\\\\Users\\\\Mary\\\\Desktop\\\\Programmazione\\\\Python'"
      ]
     },
     "execution_count": 1,
     "metadata": {},
     "output_type": "execute_result"
    }
   ],
   "source": [
    "pwd"
   ]
  },
  {
   "cell_type": "code",
   "execution_count": 2,
   "metadata": {},
   "outputs": [],
   "source": [
    "import shutil"
   ]
  },
  {
   "cell_type": "code",
   "execution_count": 11,
   "metadata": {},
   "outputs": [],
   "source": [
    "filename = 'unzip_me_for_instructions.zip'"
   ]
  },
  {
   "cell_type": "code",
   "execution_count": 15,
   "metadata": {},
   "outputs": [],
   "source": [
    "shutil.unpack_archive(filename,'C:\\\\Users\\\\Mary\\\\Desktop\\\\Programmazione\\\\Python','zip')"
   ]
  },
  {
   "cell_type": "code",
   "execution_count": 13,
   "metadata": {},
   "outputs": [],
   "source": [
    "import os"
   ]
  },
  {
   "cell_type": "code",
   "execution_count": 16,
   "metadata": {},
   "outputs": [
    {
     "data": {
      "text/plain": [
       "['.ipynb_checkpoints',\n",
       " 'Advanced_Modules_Puzzle.ipynb',\n",
       " 'Blackjack.ipynb',\n",
       " 'cap.py',\n",
       " 'Errors-and-Exceptions_Homework.ipynb',\n",
       " 'extracted_content',\n",
       " 'Function_Exercises_Challanging.ipynb',\n",
       " 'Function_Exercises_Homework.ipynb',\n",
       " 'Function_Exercises_Level1.ipynb',\n",
       " 'Function_Exercises_Level2.ipynb',\n",
       " 'Function_Exercises_Overview.ipynb',\n",
       " 'Generators_Homework.ipynb',\n",
       " 'myexample.py',\n",
       " 'myfirstnotebook.ipynb',\n",
       " 'MyMainPackage',\n",
       " 'mymodule.py',\n",
       " 'myprogram.py',\n",
       " 'OOP_Challange.ipynb',\n",
       " 'OOP_Homework.ipynb',\n",
       " 'Section2_Test.ipynb',\n",
       " 'Section3_Challange.ipynb',\n",
       " 'Section3_Test.ipynb',\n",
       " 'simple1.py',\n",
       " 'test_cap.py',\n",
       " 'Tic-Tac-Toe.py',\n",
       " 'Tic_Tac_Toe.ipynb',\n",
       " 'Untitled.ipynb',\n",
       " 'unzip_me_for_instructions.zip',\n",
       " '__pycache__']"
      ]
     },
     "execution_count": 16,
     "metadata": {},
     "output_type": "execute_result"
    }
   ],
   "source": [
    "os.listdir()"
   ]
  },
  {
   "cell_type": "code",
   "execution_count": 29,
   "metadata": {},
   "outputs": [],
   "source": [
    "import re"
   ]
  },
  {
   "cell_type": "code",
   "execution_count": 63,
   "metadata": {},
   "outputs": [
    {
     "name": "stdout",
     "output_type": "stream",
     "text": [
      "719-266-2837\n"
     ]
    }
   ],
   "source": [
    "for folder, sub_folder, files in os.walk('extracted_content'):\n",
    "\n",
    "        for f in files:\n",
    "            path = 'C:\\\\Users\\\\Mary\\\\Desktop\\\\Programmazione\\\\Python\\\\' + folder.replace('/','\\\\') + '\\\\' + f\n",
    "            text = open(path,'r')\n",
    "            phone = re.search(r'(\\d{3})-(\\d{3})-(\\d{4})',text.read())\n",
    "            if phone:\n",
    "                print(phone.group())\n",
    "\n",
    "\n",
    "        "
   ]
  },
  {
   "cell_type": "code",
   "execution_count": null,
   "metadata": {},
   "outputs": [],
   "source": []
  },
  {
   "cell_type": "code",
   "execution_count": null,
   "metadata": {},
   "outputs": [],
   "source": []
  }
 ],
 "metadata": {
  "kernelspec": {
   "display_name": "Python 3",
   "language": "python",
   "name": "python3"
  },
  "language_info": {
   "codemirror_mode": {
    "name": "ipython",
    "version": 3
   },
   "file_extension": ".py",
   "mimetype": "text/x-python",
   "name": "python",
   "nbconvert_exporter": "python",
   "pygments_lexer": "ipython3",
   "version": "3.8.3"
  }
 },
 "nbformat": 4,
 "nbformat_minor": 4
}
