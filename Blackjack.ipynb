{
 "cells": [
  {
   "cell_type": "code",
   "execution_count": 1,
   "metadata": {},
   "outputs": [],
   "source": [
    "import random\n",
    "from IPython.display import clear_output\n",
    "\n",
    "suits = ('Hearts', 'Diamonds', 'Spades', 'Clubs')\n",
    "ranks = ('Two', 'Three', 'Four', 'Five', 'Six', 'Seven', 'Eight', 'Nine', 'Ten', 'Jack', 'Queen', 'King', 'Ace')\n",
    "values = {'Two':2, 'Three':3, 'Four':4, 'Five':5, 'Six':6, 'Seven':7, 'Eight':8, \n",
    "            'Nine':9, 'Ten':10, 'Jack':10, 'Queen':10, 'King':10, 'Ace':11}"
   ]
  },
  {
   "cell_type": "code",
   "execution_count": 2,
   "metadata": {},
   "outputs": [],
   "source": [
    "class Card:\n",
    "    \n",
    "    def __init__(self,suit,rank):\n",
    "        self.suit = suit\n",
    "        self.rank = rank\n",
    "        self.value = values[rank]\n",
    "        \n",
    "    def __str__(self):\n",
    "        \n",
    "        return self.rank + ' of ' + self.suit"
   ]
  },
  {
   "cell_type": "code",
   "execution_count": 3,
   "metadata": {},
   "outputs": [],
   "source": [
    "class Deck:\n",
    "    \n",
    "    def __init__(self):\n",
    "        self.all_cards = []\n",
    "        for suit in suits:\n",
    "            for rank in ranks:\n",
    "                self.all_cards.append(Card(suit,rank))\n",
    "                \n",
    "    def shuffle(self):\n",
    "        random.shuffle(self.all_cards)\n",
    "        \n",
    "    def deal_one(self):\n",
    "        return self.all_cards.pop()"
   ]
  },
  {
   "cell_type": "code",
   "execution_count": 4,
   "metadata": {},
   "outputs": [],
   "source": [
    "class Hand:\n",
    "    \n",
    "    def __init__(self):\n",
    "        self.hand_cards = []\n",
    "        self.value = 0\n",
    "        self.aces = 0\n",
    "        \n",
    "    def add_card(self,new_card):\n",
    "        self.hand_cards.append(new_card)\n",
    "        self.value += new_card.value\n",
    "        # track aces\n",
    "        if new_card.rank == 'Ace':\n",
    "            self.aces += 1\n",
    "        \n",
    "    def adjust_aces(self):\n",
    "        while self.value > 21 and self.aces: # 0 can be treated as a boolean (False)\n",
    "            self.value -= 10\n",
    "            self.aces -= 1\n",
    "            \n",
    "    \n",
    "    "
   ]
  },
  {
   "cell_type": "code",
   "execution_count": 5,
   "metadata": {},
   "outputs": [],
   "source": [
    "class Chips:\n",
    "    \n",
    "    def __init__(self):\n",
    "        self.total = 100\n",
    "        self.bet = 0\n",
    "        \n",
    "    def win_bet(self):\n",
    "        self.total += self.bet\n",
    "    \n",
    "    def lose_bet(self):\n",
    "        self.total -= self.bet\n",
    "        \n",
    "    "
   ]
  },
  {
   "cell_type": "code",
   "execution_count": 6,
   "metadata": {},
   "outputs": [],
   "source": [
    "def ask_for_bet(total):\n",
    "    while True:\n",
    "        bet = input('How much would you like to bet? ')\n",
    "        if bet.isdigit() == False:\n",
    "            print('Sorry, invalid input!')\n",
    "        elif int(bet)<=0 or int(bet)>total:\n",
    "            print(\"Sorry, you can't bet that much!\")\n",
    "        else:\n",
    "            return int(bet)\n",
    "            "
   ]
  },
  {
   "cell_type": "code",
   "execution_count": 7,
   "metadata": {},
   "outputs": [],
   "source": [
    "def show_table(player_turn,player_cards,dealer_cards):\n",
    "    if player_turn == True:\n",
    "        print(\"Dealer's cards:\\n\")\n",
    "        print(dealer_cards[0])\n",
    "        print('???')\n",
    "        print('\\n\\n\\n')\n",
    "        print(\"Player's cards:\\n\")\n",
    "        for card in player_cards:\n",
    "            print(card)\n",
    "    else:\n",
    "        print(\"Dealer's cards:\\n\")\n",
    "        for card in dealer_cards:\n",
    "            print(card)\n",
    "        print('\\n\\n\\n')\n",
    "        print(\"Player's cards:\\n\")\n",
    "        for card in player_cards:\n",
    "            print(card)"
   ]
  },
  {
   "cell_type": "code",
   "execution_count": 8,
   "metadata": {},
   "outputs": [],
   "source": [
    "def ask_if_hit():\n",
    "    while True:\n",
    "        hit = input('Do you want to hit? [Y/N] ')\n",
    "        if hit.upper() == 'Y':\n",
    "            return True\n",
    "        elif hit.upper() == 'N':\n",
    "            return False\n",
    "        else:\n",
    "            print('Sorry, invalid input!')"
   ]
  },
  {
   "cell_type": "code",
   "execution_count": 9,
   "metadata": {},
   "outputs": [],
   "source": [
    "def another_hand():\n",
    "    while True:\n",
    "        user_input = input('Another hand? [Y/N] ')\n",
    "        if user_input.upper() == 'Y':\n",
    "            return True\n",
    "        elif user_input.upper() == 'N':\n",
    "            return False\n",
    "        else:\n",
    "            print('Sorry, invalid input!')"
   ]
  },
  {
   "cell_type": "code",
   "execution_count": 10,
   "metadata": {},
   "outputs": [],
   "source": [
    "def another_game():\n",
    "    while True:\n",
    "        user_input = input('Another game? [Y/N] ')\n",
    "        if user_input.upper() == 'Y':\n",
    "            return True\n",
    "        elif user_input.upper() == 'N':\n",
    "            print('Thank you for playing :) Bye bye')\n",
    "            return False\n",
    "        else:\n",
    "            print('Sorry, invalid input!')"
   ]
  },
  {
   "cell_type": "code",
   "execution_count": 11,
   "metadata": {},
   "outputs": [
    {
     "name": "stdout",
     "output_type": "stream",
     "text": [
      "Dealer's cards:\n",
      "\n",
      "Five of Diamonds\n",
      "Jack of Clubs\n",
      "Jack of Hearts\n",
      "\n",
      "\n",
      "\n",
      "\n",
      "Player's cards:\n",
      "\n",
      "Four of Spades\n",
      "Four of Diamonds\n",
      "Ten of Spades\n",
      "\n",
      "Dealer BUSTS!\n",
      "Player wins\n",
      "Player has now 60 chips\n",
      "Another hand? [Y/N] n\n",
      "Another game? [Y/N] n\n",
      "Thank you for playing :) Bye bye\n"
     ]
    }
   ],
   "source": [
    "game_on = True\n",
    "\n",
    "while game_on == True:\n",
    "    \n",
    "    clear_output()\n",
    "    game_over = False\n",
    "    player_chips = Chips()\n",
    "    new_deck = Deck()\n",
    "    new_deck.shuffle()\n",
    "\n",
    "    while not game_over:\n",
    "\n",
    "        human_player = Hand()\n",
    "        dealer = Hand()\n",
    "\n",
    "        player_chips.bet = ask_for_bet(player_chips.total)\n",
    "\n",
    "        human_player.add_card(new_deck.deal_one())\n",
    "        human_player.add_card(new_deck.deal_one())\n",
    "        dealer.add_card(new_deck.deal_one())\n",
    "        dealer.add_card(new_deck.deal_one())\n",
    "\n",
    "\n",
    "        player_turn = True\n",
    "        clear_output()\n",
    "        show_table(player_turn,human_player.hand_cards,dealer.hand_cards)\n",
    "        \n",
    "        while human_player.value < 21:\n",
    "            if (ask_if_hit()):\n",
    "                human_player.add_card(new_deck.deal_one())\n",
    "                human_player.adjust_aces()\n",
    "            else:            \n",
    "                player_turn = False\n",
    "                break\n",
    "            clear_output()\n",
    "            show_table(player_turn,human_player.hand_cards,dealer.hand_cards)\n",
    "                \n",
    "        if human_player.value > 21:\n",
    "            player_chips.lose_bet()\n",
    "            player_turn = False\n",
    "            clear_output()\n",
    "            show_table(player_turn,human_player.hand_cards,dealer.hand_cards)\n",
    "            print('\\nBUST!\\nDealer wins!')\n",
    "            print(f'Player has now {player_chips.total} chips')\n",
    "\n",
    "        else:\n",
    "            while dealer.value < 17:\n",
    "                dealer.add_card(new_deck.deal_one())\n",
    "                clear_output()\n",
    "                show_table(player_turn,human_player.hand_cards,dealer.hand_cards)\n",
    "                \n",
    "            if human_player.value < dealer.value < 21 :\n",
    "                player_chips.lose_bet()\n",
    "                print('\\nDealer wins!')\n",
    "                print(f'Player has now {player_chips.total} chips')\n",
    "            elif dealer.value < human_player.value:\n",
    "                player_chips.win_bet()\n",
    "                print('\\nPlayer wins!')\n",
    "                print(f'Player has now {player_chips.total} chips')\n",
    "            elif dealer.value > 21:\n",
    "                player_chips.win_bet()\n",
    "                print('\\nDealer BUSTS!\\nPlayer wins')\n",
    "                print(f'Player has now {player_chips.total} chips')\n",
    "            elif human_player.value == dealer.value:\n",
    "                print(\"\\nIt's a tie! PUSH!\")\n",
    "\n",
    "        \n",
    "        if player_chips.total == 0:\n",
    "            game_over = True\n",
    "            game_on = another_game()\n",
    "        else:\n",
    "             if not another_hand():\n",
    "                    game_over = True\n",
    "                    game_on = another_game()       \n",
    "        \n",
    "        \n",
    "       \n",
    "        \n",
    "                \n",
    "                    \n",
    "            \n",
    "            \n",
    "        \n",
    "        \n",
    "\n",
    "\n",
    "    \n",
    "    "
   ]
  },
  {
   "cell_type": "code",
   "execution_count": null,
   "metadata": {},
   "outputs": [],
   "source": [
    "new_deck = Deck()\n",
    "new_deck.shuffle()\n",
    "\n",
    "human_player = Hand()\n",
    "dealer = Hand()\n",
    "player_chips = Chips()\n",
    "\n",
    "human_player.add_card(new_deck.deal_one())\n",
    "human_player.add_card(new_deck.deal_one())\n",
    "dealer.add_card(new_deck.deal_one())\n",
    "dealer.add_card(new_deck.deal_one())\n",
    "\n",
    "player_chips.bet = ask_for_bet(player_chips.total)"
   ]
  },
  {
   "cell_type": "code",
   "execution_count": null,
   "metadata": {},
   "outputs": [],
   "source": [
    "player_turn = True\n",
    "show_table(player_turn,human_player.hand_cards,dealer.hand_cards)"
   ]
  },
  {
   "cell_type": "code",
   "execution_count": null,
   "metadata": {},
   "outputs": [],
   "source": [
    "human_player.value"
   ]
  },
  {
   "cell_type": "code",
   "execution_count": null,
   "metadata": {},
   "outputs": [],
   "source": [
    "while human_player.value < 21:\n",
    "            if (ask_if_hit()):\n",
    "                human_player.add_card(new_deck.deal_one())\n",
    "            else:\n",
    "                break"
   ]
  },
  {
   "cell_type": "code",
   "execution_count": null,
   "metadata": {},
   "outputs": [],
   "source": [
    "if human_player.value > 21:\n",
    "    player_chips.lose_bet()\n",
    "    print('BUST!\\nDealer wins')\n",
    "    print(f'Player has now {player_chips.total} chips')"
   ]
  },
  {
   "cell_type": "code",
   "execution_count": null,
   "metadata": {},
   "outputs": [],
   "source": []
  },
  {
   "cell_type": "code",
   "execution_count": null,
   "metadata": {},
   "outputs": [],
   "source": []
  },
  {
   "cell_type": "code",
   "execution_count": null,
   "metadata": {},
   "outputs": [],
   "source": []
  },
  {
   "cell_type": "code",
   "execution_count": null,
   "metadata": {},
   "outputs": [],
   "source": []
  }
 ],
 "metadata": {
  "kernelspec": {
   "display_name": "Python 3",
   "language": "python",
   "name": "python3"
  },
  "language_info": {
   "codemirror_mode": {
    "name": "ipython",
    "version": 3
   },
   "file_extension": ".py",
   "mimetype": "text/x-python",
   "name": "python",
   "nbconvert_exporter": "python",
   "pygments_lexer": "ipython3",
   "version": "3.8.3"
  }
 },
 "nbformat": 4,
 "nbformat_minor": 4
}
